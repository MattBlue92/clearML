{
 "cells": [
  {
   "cell_type": "code",
   "outputs": [
    {
     "data": {
      "text/plain": "<IPython.core.display.HTML object>",
      "text/html": "\n                <script type=\"application/javascript\" id=\"jupyter_black\">\n                (function() {\n                    if (window.IPython === undefined) {\n                        return\n                    }\n                    var msg = \"WARNING: it looks like you might have loaded \" +\n                        \"jupyter_black in a non-lab notebook with \" +\n                        \"`is_lab=True`. Please double check, and if \" +\n                        \"loading with `%load_ext` please review the README!\"\n                    console.log(msg)\n                    alert(msg)\n                })()\n                </script>\n                "
     },
     "metadata": {},
     "output_type": "display_data"
    },
    {
     "data": {
      "text/plain": "<IPython.core.display.HTML object>",
      "text/html": "\n                <script type=\"application/javascript\" id=\"jupyter_black\">\n                (function() {\n                    if (window.IPython === undefined) {\n                        return\n                    }\n                    var msg = \"WARNING: it looks like you might have loaded \" +\n                        \"jupyter_black in a non-lab notebook with \" +\n                        \"`is_lab=True`. Please double check, and if \" +\n                        \"loading with `%load_ext` please review the README!\"\n                    console.log(msg)\n                    alert(msg)\n                })()\n                </script>\n                "
     },
     "metadata": {},
     "output_type": "display_data"
    }
   ],
   "source": [
    "%load_ext jupyter_black\n",
    "%reload_ext jupyter_black"
   ],
   "metadata": {
    "collapsed": false,
    "ExecuteTime": {
     "end_time": "2024-02-08T23:04:14.206585858Z",
     "start_time": "2024-02-08T23:04:14.118657939Z"
    }
   },
   "id": "7f4ad0add6319a97",
   "execution_count": 1
  },
  {
   "cell_type": "markdown",
   "source": [
    "# Aggiornamento di un dataset con clear ml\n",
    "Supponiamo che vogliamo fare un aggiornamento di un dataset con clear ml. In particolare, supponiamo di voler aggiornare un dataset con delle immagini ridimensionate perchè il dataset presenta immagini di dimensioni diverse e anche molto grandi per un modello di  Deep Learning.  In questo potremo usare la libreria clearml per fare l'aggiornamento del dataset per noi e per il resto del team, in modo che tutti possano avere accesso al dataset aggiornato e non devono stare a fare un preprocessing delle immagini già fatte."
   ],
   "metadata": {
    "collapsed": false
   },
   "id": "7324e2a51d1ddd1a"
  },
  {
   "cell_type": "code",
   "outputs": [
    {
     "name": "stdout",
     "output_type": "stream",
     "text": [
      "env: CLEARML_WEB_HOST=https://app.clear.ml\n",
      "env: CLEARML_API_HOST=https://api.clear.ml\n",
      "env: CLEARML_FILES_HOST=https://files.clear.ml\n",
      "env: CLEARML_API_ACCESS_KEY=ZQ2HO9ZWN2AD2VF1ZAJI\n",
      "env: CLEARML_API_SECRET_KEY=eUpHz1AWvp5vsqLOYWVMwt13bnJg0TFEbfyrYzUr1XqNFemTfI\n"
     ]
    }
   ],
   "source": [
    "# %env CLEARML_WEB_HOST=https://app.clear.ml\n",
    "# %env CLEARML_API_HOST=https://api.clear.ml\n",
    "# %env CLEARML_FILES_HOST=https://files.clear.ml\n",
    "# %env CLEARML_API_ACCESS_KEY=C30F7MH4O8PLDDUCBVOD\n",
    "# %env CLEARML_API_SECRET_KEY=5J64DUYTvA6aiWfVxAU01TUiCBJBqfepaGmxXCcw9TTyJBhM3Y\n",
    "%env CLEARML_WEB_HOST=https://app.clear.ml\n",
    "%env CLEARML_API_HOST=https://api.clear.ml\n",
    "%env CLEARML_FILES_HOST=https://files.clear.ml\n",
    "%env CLEARML_API_ACCESS_KEY=ZQ2HO9ZWN2AD2VF1ZAJI\n",
    "%env CLEARML_API_SECRET_KEY=eUpHz1AWvp5vsqLOYWVMwt13bnJg0TFEbfyrYzUr1XqNFemTfI"
   ],
   "metadata": {
    "collapsed": false,
    "ExecuteTime": {
     "end_time": "2024-02-08T23:04:14.208710247Z",
     "start_time": "2024-02-08T23:04:14.198658190Z"
    }
   },
   "id": "2e7966986b062e4f",
   "execution_count": 2
  },
  {
   "cell_type": "code",
   "outputs": [],
   "source": [
    "from pathlib import Path\n",
    "import cv2\n",
    "from clearml import Task, Dataset, TaskTypes\n",
    "import matplotlib.pyplot as plt"
   ],
   "metadata": {
    "collapsed": false,
    "ExecuteTime": {
     "end_time": "2024-02-08T23:04:15.193115839Z",
     "start_time": "2024-02-08T23:04:14.198864145Z"
    }
   },
   "id": "4dbd145cfbe5af25",
   "execution_count": 3
  },
  {
   "cell_type": "markdown",
   "source": [
    "# Creazione di un task\n",
    "Anche qui creiamo un task per poter la creazione di questo preprocessing delle immagini."
   ],
   "metadata": {
    "collapsed": false
   },
   "id": "f6881f2e568ef278"
  },
  {
   "cell_type": "code",
   "outputs": [
    {
     "name": "stdout",
     "output_type": "stream",
     "text": [
      "ClearML Task: created new task id=c8c2316797884cb1aa6910013b32c878\n",
      "2024-02-09 00:04:19,327 - clearml.Task - INFO - Storing jupyter notebook directly as code\n",
      "ClearML results page: https://app.clear.ml/projects/c2985cd7c0bf4c179801d7f86acd0ab6/experiments/c8c2316797884cb1aa6910013b32c878/output/log\n"
     ]
    }
   ],
   "source": [
    "task = Task.init(project_name=\"fruit_classification_with_vit\", task_name=\"pre_process_data\", task_type= TaskTypes.data_processing)"
   ],
   "metadata": {
    "collapsed": false,
    "ExecuteTime": {
     "end_time": "2024-02-08T23:04:23.846963241Z",
     "start_time": "2024-02-08T23:04:15.198231673Z"
    }
   },
   "id": "df3817aa1598b3b2",
   "execution_count": 4
  },
  {
   "cell_type": "markdown",
   "source": [
    "# Creazione di una funzione per il preprocessing delle immagini\n",
    "Creiamo una funzione che ci permette di fare il preprocessing delle immagini. In particolare, questa funzione ci permette di fare il ridimensionamento delle immagini."
   ],
   "metadata": {
    "collapsed": false
   },
   "id": "10977fbbcd7fe16"
  },
  {
   "cell_type": "code",
   "outputs": [],
   "source": [
    "def load_image(image_path:str):\n",
    "    image = cv2.imread(image_path)\n",
    "    image = cv2.cvtColor(image, cv2.COLOR_BGR2RGB)\n",
    "    return image"
   ],
   "metadata": {
    "collapsed": false,
    "ExecuteTime": {
     "end_time": "2024-02-08T23:04:23.865412417Z",
     "start_time": "2024-02-08T23:04:23.853706241Z"
    }
   },
   "id": "3bd19e85a2c4bae3",
   "execution_count": 5
  },
  {
   "cell_type": "code",
   "outputs": [],
   "source": [
    "def show_image(image):\n",
    "    plt.imshow(image)\n",
    "    plt.axis('off')\n",
    "    plt.show()"
   ],
   "metadata": {
    "collapsed": false,
    "ExecuteTime": {
     "end_time": "2024-02-08T23:04:23.896915438Z",
     "start_time": "2024-02-08T23:04:23.861900460Z"
    }
   },
   "id": "2a056aa00c50a880",
   "execution_count": 6
  },
  {
   "cell_type": "code",
   "outputs": [],
   "source": [
    "def save_image(image, image_path:str):\n",
    "    cv2.imwrite(image_path, cv2.cvtColor(image, cv2.COLOR_RGB2BGR))"
   ],
   "metadata": {
    "collapsed": false,
    "ExecuteTime": {
     "end_time": "2024-02-08T23:04:23.898049173Z",
     "start_time": "2024-02-08T23:04:23.876971539Z"
    }
   },
   "id": "c2542882f61d38ec",
   "execution_count": 7
  },
  {
   "cell_type": "code",
   "outputs": [],
   "source": [
    "def resize_image(image, size:int):\n",
    "    image_smooth = cv2.GaussianBlur(image, (7, 7), 0)\n",
    "    return cv2.resize(image_smooth, (size, size))"
   ],
   "metadata": {
    "collapsed": false,
    "ExecuteTime": {
     "end_time": "2024-02-08T23:04:23.898487992Z",
     "start_time": "2024-02-08T23:04:23.884783581Z"
    }
   },
   "id": "73091d4d0fd2dfd8",
   "execution_count": 8
  },
  {
   "cell_type": "code",
   "outputs": [],
   "source": [
    "path_to_load_data = Path(\"..\", \"data\", \"fruit_dataset\")\n",
    "path_to_save_data = Path(\"..\", \"data\", \"fruit_dataset_resized\")"
   ],
   "metadata": {
    "collapsed": false,
    "ExecuteTime": {
     "end_time": "2024-02-08T23:04:23.934218829Z",
     "start_time": "2024-02-08T23:04:23.930869192Z"
    }
   },
   "id": "9e4e88cc8a7619b0",
   "execution_count": 9
  },
  {
   "cell_type": "code",
   "outputs": [
    {
     "name": "stderr",
     "output_type": "stream",
     "text": [
      "libpng warning: iCCP: known incorrect sRGB profile\n"
     ]
    }
   ],
   "source": [
    "folders = []\n",
    "counts = []\n",
    "for class_folder in path_to_load_data.iterdir():\n",
    "    if class_folder.is_dir():\n",
    "        name_folder = class_folder.name\n",
    "        folders.append(name_folder)\n",
    "        path_to_save_class = path_to_save_data / name_folder\n",
    "        path_to_save_class.mkdir(exist_ok=True, parents=True)\n",
    "        count = 0\n",
    "        for image_path in class_folder.iterdir():\n",
    "            if image_path.suffix != '.gif':\n",
    "                #print(image_path.as_posix())\n",
    "                count += 1\n",
    "                image = load_image(image_path.as_posix())\n",
    "                image_resized = resize_image(image, 224)\n",
    "                save_image(image_resized, (path_to_save_data / class_folder.name / image_path.name).as_posix())\n",
    "        counts.append([count])"
   ],
   "metadata": {
    "collapsed": false,
    "ExecuteTime": {
     "end_time": "2024-02-08T23:04:39.356629560Z",
     "start_time": "2024-02-08T23:04:23.931727245Z"
    }
   },
   "id": "b52e09ef84a09c85",
   "execution_count": 10
  },
  {
   "cell_type": "code",
   "outputs": [
    {
     "name": "stdout",
     "output_type": "stream",
     "text": [
      "2024-02-09 00:04:39,360 - clearml - INFO - Dataset.get() did not specify alias. Dataset information will not be automatically logged in ClearML Server.\n",
      "2024-02-09 00:04:39,919 - clearml.Task - ERROR - Action failed <400/101: tasks.get_by_id/v1.0 (Invalid task id: ids=(e20bc7d4e64343d092a16d056866cffd))> (task=e20bc7d4e64343d092a16d056866cffd)\n",
      "2024-02-09 00:04:39,921 - clearml.Task - ERROR - Failed reloading task e20bc7d4e64343d092a16d056866cffd\n",
      "2024-02-09 00:04:40,470 - clearml.Task - ERROR - Action failed <400/101: tasks.get_by_id/v1.0 (Invalid task id: ids=(e20bc7d4e64343d092a16d056866cffd))> (task=e20bc7d4e64343d092a16d056866cffd)\n",
      "2024-02-09 00:04:40,471 - clearml.Task - ERROR - Failed reloading task e20bc7d4e64343d092a16d056866cffd\n"
     ]
    },
    {
     "ename": "ValueError",
     "evalue": "Task ID \"e20bc7d4e64343d092a16d056866cffd\" could not be found",
     "output_type": "error",
     "traceback": [
      "\u001B[0;31m---------------------------------------------------------------------------\u001B[0m",
      "\u001B[0;31mValueError\u001B[0m                                Traceback (most recent call last)",
      "Cell \u001B[0;32mIn[11], line 1\u001B[0m\n\u001B[0;32m----> 1\u001B[0m dataset \u001B[38;5;241m=\u001B[39m \u001B[43mDataset\u001B[49m\u001B[38;5;241;43m.\u001B[39;49m\u001B[43mcreate\u001B[49m\u001B[43m(\u001B[49m\u001B[43mdataset_name\u001B[49m\u001B[38;5;241;43m=\u001B[39;49m\u001B[38;5;124;43m\"\u001B[39;49m\u001B[38;5;124;43mfruit_dataset_resized\u001B[39;49m\u001B[38;5;124;43m\"\u001B[39;49m\u001B[43m,\u001B[49m\u001B[43m \u001B[49m\u001B[43mdataset_project\u001B[49m\u001B[38;5;241;43m=\u001B[39;49m\u001B[38;5;124;43m\"\u001B[39;49m\u001B[38;5;124;43mfruit_classification_with_vit\u001B[39;49m\u001B[38;5;124;43m\"\u001B[39;49m\u001B[43m,\u001B[49m\u001B[43m \u001B[49m\u001B[43mparent_datasets\u001B[49m\u001B[38;5;241;43m=\u001B[39;49m\u001B[43m[\u001B[49m\u001B[38;5;124;43m'\u001B[39;49m\u001B[38;5;124;43me20bc7d4e64343d092a16d056866cffd\u001B[39;49m\u001B[38;5;124;43m'\u001B[39;49m\u001B[43m]\u001B[49m\u001B[43m)\u001B[49m\n",
      "File \u001B[0;32m~/anaconda3/envs/scientificProject1/lib/python3.11/site-packages/clearml/datasets/dataset.py:1248\u001B[0m, in \u001B[0;36mDataset.create\u001B[0;34m(cls, dataset_name, dataset_project, dataset_tags, parent_datasets, use_current_task, dataset_version, output_uri, description)\u001B[0m\n\u001B[1;32m   1245\u001B[0m \u001B[38;5;28;01mif\u001B[39;00m \u001B[38;5;129;01mnot\u001B[39;00m Dataset\u001B[38;5;241m.\u001B[39mis_offline() \u001B[38;5;129;01mand\u001B[39;00m \u001B[38;5;129;01mnot\u001B[39;00m Session\u001B[38;5;241m.\u001B[39mcheck_min_api_server_version(\u001B[38;5;124m\"\u001B[39m\u001B[38;5;124m2.13\u001B[39m\u001B[38;5;124m\"\u001B[39m, raise_error\u001B[38;5;241m=\u001B[39m\u001B[38;5;28;01mTrue\u001B[39;00m):\n\u001B[1;32m   1246\u001B[0m     \u001B[38;5;28;01mraise\u001B[39;00m \u001B[38;5;167;01mNotImplementedError\u001B[39;00m(\u001B[38;5;124m\"\u001B[39m\u001B[38;5;124mDatasets are not supported with your current ClearML server version. Please update your server.\u001B[39m\u001B[38;5;124m\"\u001B[39m)\n\u001B[0;32m-> 1248\u001B[0m parent_datasets \u001B[38;5;241m=\u001B[39m \u001B[43m[\u001B[49m\u001B[38;5;28;43mcls\u001B[39;49m\u001B[38;5;241;43m.\u001B[39;49m\u001B[43mget\u001B[49m\u001B[43m(\u001B[49m\u001B[43mdataset_id\u001B[49m\u001B[38;5;241;43m=\u001B[39;49m\u001B[43mp\u001B[49m\u001B[43m)\u001B[49m\u001B[43m \u001B[49m\u001B[38;5;28;43;01mif\u001B[39;49;00m\u001B[43m \u001B[49m\u001B[38;5;129;43;01mnot\u001B[39;49;00m\u001B[43m \u001B[49m\u001B[38;5;28;43misinstance\u001B[39;49m\u001B[43m(\u001B[49m\u001B[43mp\u001B[49m\u001B[43m,\u001B[49m\u001B[43m \u001B[49m\u001B[43mDataset\u001B[49m\u001B[43m)\u001B[49m\u001B[43m \u001B[49m\u001B[38;5;28;43;01melse\u001B[39;49;00m\u001B[43m \u001B[49m\u001B[43mp\u001B[49m\u001B[43m \u001B[49m\u001B[38;5;28;43;01mfor\u001B[39;49;00m\u001B[43m \u001B[49m\u001B[43mp\u001B[49m\u001B[43m \u001B[49m\u001B[38;5;129;43;01min\u001B[39;49;00m\u001B[43m \u001B[49m\u001B[43m(\u001B[49m\u001B[43mparent_datasets\u001B[49m\u001B[43m \u001B[49m\u001B[38;5;129;43;01mor\u001B[39;49;00m\u001B[43m \u001B[49m\u001B[43m[\u001B[49m\u001B[43m]\u001B[49m\u001B[43m)\u001B[49m\u001B[43m]\u001B[49m\n\u001B[1;32m   1249\u001B[0m \u001B[38;5;28;01mif\u001B[39;00m \u001B[38;5;28many\u001B[39m(\u001B[38;5;129;01mnot\u001B[39;00m p\u001B[38;5;241m.\u001B[39mis_final() \u001B[38;5;28;01mfor\u001B[39;00m p \u001B[38;5;129;01min\u001B[39;00m parent_datasets):\n\u001B[1;32m   1250\u001B[0m     \u001B[38;5;28;01mraise\u001B[39;00m \u001B[38;5;167;01mValueError\u001B[39;00m(\u001B[38;5;124m\"\u001B[39m\u001B[38;5;124mCannot inherit from a parent that was not finalized/closed\u001B[39m\u001B[38;5;124m\"\u001B[39m)\n",
      "File \u001B[0;32m~/anaconda3/envs/scientificProject1/lib/python3.11/site-packages/clearml/datasets/dataset.py:1248\u001B[0m, in \u001B[0;36m<listcomp>\u001B[0;34m(.0)\u001B[0m\n\u001B[1;32m   1245\u001B[0m \u001B[38;5;28;01mif\u001B[39;00m \u001B[38;5;129;01mnot\u001B[39;00m Dataset\u001B[38;5;241m.\u001B[39mis_offline() \u001B[38;5;129;01mand\u001B[39;00m \u001B[38;5;129;01mnot\u001B[39;00m Session\u001B[38;5;241m.\u001B[39mcheck_min_api_server_version(\u001B[38;5;124m\"\u001B[39m\u001B[38;5;124m2.13\u001B[39m\u001B[38;5;124m\"\u001B[39m, raise_error\u001B[38;5;241m=\u001B[39m\u001B[38;5;28;01mTrue\u001B[39;00m):\n\u001B[1;32m   1246\u001B[0m     \u001B[38;5;28;01mraise\u001B[39;00m \u001B[38;5;167;01mNotImplementedError\u001B[39;00m(\u001B[38;5;124m\"\u001B[39m\u001B[38;5;124mDatasets are not supported with your current ClearML server version. Please update your server.\u001B[39m\u001B[38;5;124m\"\u001B[39m)\n\u001B[0;32m-> 1248\u001B[0m parent_datasets \u001B[38;5;241m=\u001B[39m [\u001B[38;5;28;43mcls\u001B[39;49m\u001B[38;5;241;43m.\u001B[39;49m\u001B[43mget\u001B[49m\u001B[43m(\u001B[49m\u001B[43mdataset_id\u001B[49m\u001B[38;5;241;43m=\u001B[39;49m\u001B[43mp\u001B[49m\u001B[43m)\u001B[49m \u001B[38;5;28;01mif\u001B[39;00m \u001B[38;5;129;01mnot\u001B[39;00m \u001B[38;5;28misinstance\u001B[39m(p, Dataset) \u001B[38;5;28;01melse\u001B[39;00m p \u001B[38;5;28;01mfor\u001B[39;00m p \u001B[38;5;129;01min\u001B[39;00m (parent_datasets \u001B[38;5;129;01mor\u001B[39;00m [])]\n\u001B[1;32m   1249\u001B[0m \u001B[38;5;28;01mif\u001B[39;00m \u001B[38;5;28many\u001B[39m(\u001B[38;5;129;01mnot\u001B[39;00m p\u001B[38;5;241m.\u001B[39mis_final() \u001B[38;5;28;01mfor\u001B[39;00m p \u001B[38;5;129;01min\u001B[39;00m parent_datasets):\n\u001B[1;32m   1250\u001B[0m     \u001B[38;5;28;01mraise\u001B[39;00m \u001B[38;5;167;01mValueError\u001B[39;00m(\u001B[38;5;124m\"\u001B[39m\u001B[38;5;124mCannot inherit from a parent that was not finalized/closed\u001B[39m\u001B[38;5;124m\"\u001B[39m)\n",
      "File \u001B[0;32m~/anaconda3/envs/scientificProject1/lib/python3.11/site-packages/clearml/datasets/dataset.py:1779\u001B[0m, in \u001B[0;36mDataset.get\u001B[0;34m(cls, dataset_id, dataset_project, dataset_name, dataset_tags, only_completed, only_published, include_archived, auto_create, writable_copy, dataset_version, alias, overridable, shallow_search, **kwargs)\u001B[0m\n\u001B[1;32m   1775\u001B[0m     instance \u001B[38;5;241m=\u001B[39m Dataset\u001B[38;5;241m.\u001B[39mcreate(\n\u001B[1;32m   1776\u001B[0m         dataset_name\u001B[38;5;241m=\u001B[39mdataset_name, dataset_project\u001B[38;5;241m=\u001B[39mdataset_project, dataset_tags\u001B[38;5;241m=\u001B[39mdataset_tags\n\u001B[1;32m   1777\u001B[0m     )\n\u001B[1;32m   1778\u001B[0m     \u001B[38;5;28;01mreturn\u001B[39;00m finish_dataset_get(instance, instance\u001B[38;5;241m.\u001B[39m_id)\n\u001B[0;32m-> 1779\u001B[0m instance \u001B[38;5;241m=\u001B[39m \u001B[43mget_instance\u001B[49m\u001B[43m(\u001B[49m\u001B[43mdataset_id\u001B[49m\u001B[43m)\u001B[49m\n\u001B[1;32m   1780\u001B[0m \u001B[38;5;66;03m# Now we have the requested dataset, but if we want a mutable copy instead, we create a new dataset with the\u001B[39;00m\n\u001B[1;32m   1781\u001B[0m \u001B[38;5;66;03m# current one as its parent. So one can add files to it and finalize as a new version.\u001B[39;00m\n\u001B[1;32m   1782\u001B[0m \u001B[38;5;28;01mif\u001B[39;00m writable_copy:\n",
      "File \u001B[0;32m~/anaconda3/envs/scientificProject1/lib/python3.11/site-packages/clearml/datasets/dataset.py:1678\u001B[0m, in \u001B[0;36mDataset.get.<locals>.get_instance\u001B[0;34m(dataset_id_)\u001B[0m\n\u001B[1;32m   1677\u001B[0m \u001B[38;5;28;01mdef\u001B[39;00m \u001B[38;5;21mget_instance\u001B[39m(dataset_id_):\n\u001B[0;32m-> 1678\u001B[0m     task \u001B[38;5;241m=\u001B[39m \u001B[43mTask\u001B[49m\u001B[38;5;241;43m.\u001B[39;49m\u001B[43mget_task\u001B[49m\u001B[43m(\u001B[49m\u001B[43mtask_id\u001B[49m\u001B[38;5;241;43m=\u001B[39;49m\u001B[43mdataset_id_\u001B[49m\u001B[43m)\u001B[49m\n\u001B[1;32m   1679\u001B[0m     \u001B[38;5;28;01mif\u001B[39;00m task\u001B[38;5;241m.\u001B[39mstatus \u001B[38;5;241m==\u001B[39m \u001B[38;5;124m\"\u001B[39m\u001B[38;5;124mcreated\u001B[39m\u001B[38;5;124m\"\u001B[39m:\n\u001B[1;32m   1680\u001B[0m         \u001B[38;5;28;01mraise\u001B[39;00m \u001B[38;5;167;01mValueError\u001B[39;00m(\u001B[38;5;124m\"\u001B[39m\u001B[38;5;124mDataset id=\u001B[39m\u001B[38;5;132;01m{}\u001B[39;00m\u001B[38;5;124m is in draft mode, delete and recreate it\u001B[39m\u001B[38;5;124m\"\u001B[39m\u001B[38;5;241m.\u001B[39mformat(task\u001B[38;5;241m.\u001B[39mid))\n",
      "File \u001B[0;32m~/anaconda3/envs/scientificProject1/lib/python3.11/site-packages/clearml/task.py:989\u001B[0m, in \u001B[0;36mTask.get_task\u001B[0;34m(cls, task_id, project_name, task_name, tags, allow_archived, task_filter)\u001B[0m\n\u001B[1;32m    908\u001B[0m \u001B[38;5;129m@classmethod\u001B[39m\n\u001B[1;32m    909\u001B[0m \u001B[38;5;28;01mdef\u001B[39;00m \u001B[38;5;21mget_task\u001B[39m(\n\u001B[1;32m    910\u001B[0m         \u001B[38;5;28mcls\u001B[39m,\n\u001B[0;32m   (...)\u001B[0m\n\u001B[1;32m    917\u001B[0m ):\n\u001B[1;32m    918\u001B[0m     \u001B[38;5;66;03m# type: (...) -> TaskInstance\u001B[39;00m\n\u001B[1;32m    919\u001B[0m \u001B[38;5;250m    \u001B[39m\u001B[38;5;124;03m\"\"\"\u001B[39;00m\n\u001B[1;32m    920\u001B[0m \u001B[38;5;124;03m    Get a Task by ID, or project name / task name combination.\u001B[39;00m\n\u001B[1;32m    921\u001B[0m \n\u001B[0;32m   (...)\u001B[0m\n\u001B[1;32m    987\u001B[0m \u001B[38;5;124;03m    :rtype: Task\u001B[39;00m\n\u001B[1;32m    988\u001B[0m \u001B[38;5;124;03m    \"\"\"\u001B[39;00m\n\u001B[0;32m--> 989\u001B[0m     \u001B[38;5;28;01mreturn\u001B[39;00m \u001B[38;5;28;43mcls\u001B[39;49m\u001B[38;5;241;43m.\u001B[39;49m\u001B[43m__get_task\u001B[49m\u001B[43m(\u001B[49m\n\u001B[1;32m    990\u001B[0m \u001B[43m        \u001B[49m\u001B[43mtask_id\u001B[49m\u001B[38;5;241;43m=\u001B[39;49m\u001B[43mtask_id\u001B[49m\u001B[43m,\u001B[49m\u001B[43m \u001B[49m\u001B[43mproject_name\u001B[49m\u001B[38;5;241;43m=\u001B[39;49m\u001B[43mproject_name\u001B[49m\u001B[43m,\u001B[49m\u001B[43m \u001B[49m\u001B[43mtask_name\u001B[49m\u001B[38;5;241;43m=\u001B[39;49m\u001B[43mtask_name\u001B[49m\u001B[43m,\u001B[49m\u001B[43m \u001B[49m\u001B[43mtags\u001B[49m\u001B[38;5;241;43m=\u001B[39;49m\u001B[43mtags\u001B[49m\u001B[43m,\u001B[49m\n\u001B[1;32m    991\u001B[0m \u001B[43m        \u001B[49m\u001B[43minclude_archived\u001B[49m\u001B[38;5;241;43m=\u001B[39;49m\u001B[43mallow_archived\u001B[49m\u001B[43m,\u001B[49m\u001B[43m \u001B[49m\u001B[43mtask_filter\u001B[49m\u001B[38;5;241;43m=\u001B[39;49m\u001B[43mtask_filter\u001B[49m\u001B[43m,\u001B[49m\n\u001B[1;32m    992\u001B[0m \u001B[43m    \u001B[49m\u001B[43m)\u001B[49m\n",
      "File \u001B[0;32m~/anaconda3/envs/scientificProject1/lib/python3.11/site-packages/clearml/task.py:4331\u001B[0m, in \u001B[0;36mTask.__get_task\u001B[0;34m(cls, task_id, project_name, task_name, include_archived, tags, task_filter)\u001B[0m\n\u001B[1;32m   4318\u001B[0m \u001B[38;5;129m@classmethod\u001B[39m\n\u001B[1;32m   4319\u001B[0m \u001B[38;5;28;01mdef\u001B[39;00m \u001B[38;5;21m__get_task\u001B[39m(\n\u001B[1;32m   4320\u001B[0m         \u001B[38;5;28mcls\u001B[39m,\n\u001B[0;32m   (...)\u001B[0m\n\u001B[1;32m   4327\u001B[0m ):\n\u001B[1;32m   4328\u001B[0m     \u001B[38;5;66;03m# type: (...) -> TaskInstance\u001B[39;00m\n\u001B[1;32m   4330\u001B[0m     \u001B[38;5;28;01mif\u001B[39;00m task_id:\n\u001B[0;32m-> 4331\u001B[0m         \u001B[38;5;28;01mreturn\u001B[39;00m \u001B[38;5;28;43mcls\u001B[39;49m\u001B[43m(\u001B[49m\u001B[43mprivate\u001B[49m\u001B[38;5;241;43m=\u001B[39;49m\u001B[38;5;28;43mcls\u001B[39;49m\u001B[38;5;241;43m.\u001B[39;49m\u001B[43m__create_protection\u001B[49m\u001B[43m,\u001B[49m\u001B[43m \u001B[49m\u001B[43mtask_id\u001B[49m\u001B[38;5;241;43m=\u001B[39;49m\u001B[43mtask_id\u001B[49m\u001B[43m,\u001B[49m\u001B[43m \u001B[49m\u001B[43mlog_to_backend\u001B[49m\u001B[38;5;241;43m=\u001B[39;49m\u001B[38;5;28;43;01mFalse\u001B[39;49;00m\u001B[43m)\u001B[49m\n\u001B[1;32m   4333\u001B[0m     \u001B[38;5;28;01mif\u001B[39;00m project_name:\n\u001B[1;32m   4334\u001B[0m         res \u001B[38;5;241m=\u001B[39m \u001B[38;5;28mcls\u001B[39m\u001B[38;5;241m.\u001B[39m_send(\n\u001B[1;32m   4335\u001B[0m             \u001B[38;5;28mcls\u001B[39m\u001B[38;5;241m.\u001B[39m_get_default_session(),\n\u001B[1;32m   4336\u001B[0m             projects\u001B[38;5;241m.\u001B[39mGetAllRequest(\n\u001B[1;32m   4337\u001B[0m                 name\u001B[38;5;241m=\u001B[39mexact_match_regex(project_name)\n\u001B[1;32m   4338\u001B[0m             )\n\u001B[1;32m   4339\u001B[0m         )\n",
      "File \u001B[0;32m~/anaconda3/envs/scientificProject1/lib/python3.11/site-packages/clearml/task.py:209\u001B[0m, in \u001B[0;36mTask.__init__\u001B[0;34m(self, private, **kwargs)\u001B[0m\n\u001B[1;32m    205\u001B[0m     \u001B[38;5;28;01mraise\u001B[39;00m UsageError(\n\u001B[1;32m    206\u001B[0m         \u001B[38;5;124m'\u001B[39m\u001B[38;5;124mTask object cannot be instantiated externally, use Task.current_task() or Task.get_task(...)\u001B[39m\u001B[38;5;124m'\u001B[39m)\n\u001B[1;32m    207\u001B[0m \u001B[38;5;28mself\u001B[39m\u001B[38;5;241m.\u001B[39m_repo_detect_lock \u001B[38;5;241m=\u001B[39m threading\u001B[38;5;241m.\u001B[39mRLock()\n\u001B[0;32m--> 209\u001B[0m \u001B[38;5;28;43msuper\u001B[39;49m\u001B[43m(\u001B[49m\u001B[43mTask\u001B[49m\u001B[43m,\u001B[49m\u001B[43m \u001B[49m\u001B[38;5;28;43mself\u001B[39;49m\u001B[43m)\u001B[49m\u001B[38;5;241;43m.\u001B[39;49m\u001B[38;5;21;43m__init__\u001B[39;49m\u001B[43m(\u001B[49m\u001B[38;5;241;43m*\u001B[39;49m\u001B[38;5;241;43m*\u001B[39;49m\u001B[43mkwargs\u001B[49m\u001B[43m)\u001B[49m\n\u001B[1;32m    210\u001B[0m \u001B[38;5;28mself\u001B[39m\u001B[38;5;241m.\u001B[39m_arguments \u001B[38;5;241m=\u001B[39m _Arguments(\u001B[38;5;28mself\u001B[39m)\n\u001B[1;32m    211\u001B[0m \u001B[38;5;28mself\u001B[39m\u001B[38;5;241m.\u001B[39m_logger \u001B[38;5;241m=\u001B[39m \u001B[38;5;28;01mNone\u001B[39;00m\n",
      "File \u001B[0;32m~/anaconda3/envs/scientificProject1/lib/python3.11/site-packages/clearml/backend_interface/task/task.py:189\u001B[0m, in \u001B[0;36mTask.__init__\u001B[0;34m(self, session, task_id, log, project_name, task_name, task_type, log_to_backend, raise_on_validation_errors, force_create)\u001B[0m\n\u001B[1;32m    186\u001B[0m     \u001B[38;5;28mself\u001B[39m\u001B[38;5;241m.\u001B[39m_validate(check_output_dest_credentials\u001B[38;5;241m=\u001B[39m\u001B[38;5;28;01mFalse\u001B[39;00m)\n\u001B[1;32m    188\u001B[0m \u001B[38;5;28;01mif\u001B[39;00m \u001B[38;5;28mself\u001B[39m\u001B[38;5;241m.\u001B[39mdata \u001B[38;5;129;01mis\u001B[39;00m \u001B[38;5;28;01mNone\u001B[39;00m:\n\u001B[0;32m--> 189\u001B[0m     \u001B[38;5;28;01mraise\u001B[39;00m \u001B[38;5;167;01mValueError\u001B[39;00m(\u001B[38;5;124m\"\u001B[39m\u001B[38;5;124mTask ID \u001B[39m\u001B[38;5;130;01m\\\"\u001B[39;00m\u001B[38;5;132;01m{}\u001B[39;00m\u001B[38;5;130;01m\\\"\u001B[39;00m\u001B[38;5;124m could not be found\u001B[39m\u001B[38;5;124m\"\u001B[39m\u001B[38;5;241m.\u001B[39mformat(\u001B[38;5;28mself\u001B[39m\u001B[38;5;241m.\u001B[39mid))\n\u001B[1;32m    191\u001B[0m \u001B[38;5;28mself\u001B[39m\u001B[38;5;241m.\u001B[39m_project_name \u001B[38;5;241m=\u001B[39m (\u001B[38;5;28mself\u001B[39m\u001B[38;5;241m.\u001B[39mproject, project_name)\n\u001B[1;32m    192\u001B[0m \u001B[38;5;28mself\u001B[39m\u001B[38;5;241m.\u001B[39m_project_object \u001B[38;5;241m=\u001B[39m \u001B[38;5;28;01mNone\u001B[39;00m\n",
      "\u001B[0;31mValueError\u001B[0m: Task ID \"e20bc7d4e64343d092a16d056866cffd\" could not be found"
     ]
    }
   ],
   "source": [
    "dataset = Dataset.create(dataset_name=\"fruit_dataset_resized\", dataset_project=\"fruit_classification_with_vit\", parent_datasets=['e20bc7d4e64343d092a16d056866cffd'])\n"
   ],
   "metadata": {
    "collapsed": false,
    "ExecuteTime": {
     "end_time": "2024-02-08T23:04:41.226806160Z",
     "start_time": "2024-02-08T23:04:39.361169369Z"
    }
   },
   "id": "9a3fda446328ca82",
   "execution_count": 11
  },
  {
   "cell_type": "code",
   "outputs": [],
   "source": [
    "dataset.sync_folder(local_path=path_to_save_data.as_posix(), verbose=True)"
   ],
   "metadata": {
    "collapsed": false,
    "ExecuteTime": {
     "end_time": "2024-02-08T23:04:41.247418460Z",
     "start_time": "2024-02-08T23:04:41.228230345Z"
    }
   },
   "id": "83effa3488ee46a0",
   "execution_count": null
  },
  {
   "cell_type": "code",
   "outputs": [],
   "source": [
    "dataset.get_logger().report_histogram(\n",
    "    title=\"Number of images per class\",\n",
    "    series=\"Number of images\",\n",
    "    labels=folders,\n",
    "    values=counts,\n",
    "    xaxis=\"Class\",\n",
    "    yaxis=\"Count\"\n",
    ")"
   ],
   "metadata": {
    "collapsed": false,
    "ExecuteTime": {
     "end_time": "2024-02-08T23:04:41.293883532Z",
     "start_time": "2024-02-08T23:04:41.270694070Z"
    }
   },
   "id": "adb72cd4658fe4f5",
   "execution_count": null
  },
  {
   "cell_type": "code",
   "outputs": [],
   "source": [
    "dataset.finalize(verbose=True, auto_upload=True)\n",
    "task.close()"
   ],
   "metadata": {
    "collapsed": false,
    "ExecuteTime": {
     "start_time": "2024-02-08T23:04:41.270949731Z"
    }
   },
   "id": "42647a092e6dd92d",
   "execution_count": null
  }
 ],
 "metadata": {
  "kernelspec": {
   "display_name": "Python 3",
   "language": "python",
   "name": "python3"
  },
  "language_info": {
   "codemirror_mode": {
    "name": "ipython",
    "version": 2
   },
   "file_extension": ".py",
   "mimetype": "text/x-python",
   "name": "python",
   "nbconvert_exporter": "python",
   "pygments_lexer": "ipython2",
   "version": "2.7.6"
  }
 },
 "nbformat": 4,
 "nbformat_minor": 5
}
